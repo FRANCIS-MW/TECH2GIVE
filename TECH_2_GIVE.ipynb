{
  "nbformat": 4,
  "nbformat_minor": 0,
  "metadata": {
    "colab": {
      "provenance": []
    },
    "kernelspec": {
      "name": "python3",
      "display_name": "Python 3"
    },
    "language_info": {
      "name": "python"
    }
  },
  "cells": [
    {
      "cell_type": "code",
      "execution_count": 1,
      "metadata": {
        "colab": {
          "base_uri": "https://localhost:8080/"
        },
        "id": "rJXD_rKRnLBe",
        "outputId": "e2c6fa2c-ad27-4f60-b96f-dbe5a0f595ac"
      },
      "outputs": [
        {
          "output_type": "stream",
          "name": "stdout",
          "text": [
            "5\n",
            "-21\n"
          ]
        }
      ],
      "source": [
        "#1. Design a function that reverses the digits of an integer.\n",
        "def reverse_integer(num):\n",
        "    # Check if the number is negative\n",
        "    negative = num < 0\n",
        "    num = abs(num)\n",
        "\n",
        "    # Convert number to string, reverse it, and convert back to integer\n",
        "    reversed_num = int(str(num)[::-1])\n",
        "\n",
        "    # Return with appropriate sign\n",
        "    return -reversed_num if negative else reversed_num\n",
        "\n",
        "# Test cases\n",
        "print(reverse_integer(50))   # Output: 5\n",
        "print(reverse_integer(-12))  # Output: -21\n"
      ]
    },
    {
      "cell_type": "code",
      "source": [
        "def factorial(n):\n",
        "    # Base case: factorial of 0 or 1 is 1\n",
        "    if n == 0 or n == 1:\n",
        "        return 1\n",
        "    else:\n",
        "        return n * factorial(n - 1)\n",
        "\n",
        "# Test cases\n",
        "print(factorial(5))  # Output: 120 (5! = 5 * 4 * 3 * 2 * 1 = 120)\n",
        "print(factorial(0))  # Output: 1 (0! = 1)\n"
      ],
      "metadata": {
        "colab": {
          "base_uri": "https://localhost:8080/"
        },
        "id": "FCO7JVxMuUSQ",
        "outputId": "570e3405-a01d-4e79-b98d-7c8a2c9c280d"
      },
      "execution_count": 2,
      "outputs": [
        {
          "output_type": "stream",
          "name": "stdout",
          "text": [
            "120\n",
            "1\n"
          ]
        }
      ]
    },
    {
      "cell_type": "code",
      "source": [
        "from collections import Counter\n",
        "\n",
        "def most_frequent_char(input_string):\n",
        "    # Use Counter to count occurrences of each character\n",
        "    char_count = Counter(input_string.lower().replace(\" \", \"\"))\n",
        "\n",
        "    # Find the character with maximum frequency\n",
        "    most_common_char = char_count.most_common(1)[0][0]\n",
        "\n",
        "    return most_common_char\n",
        "\n",
        "# Test cases\n",
        "print(most_frequent_char(\"11189\"))  # Output: '1'\n",
        "print(most_frequent_char(\"hello\"))  # Output: 'l'\n"
      ],
      "metadata": {
        "colab": {
          "base_uri": "https://localhost:8080/"
        },
        "id": "wC1J-CaLwX8H",
        "outputId": "9cf4b3f2-ed17-4b8d-f51f-8ae3144c3aaf"
      },
      "execution_count": 3,
      "outputs": [
        {
          "output_type": "stream",
          "name": "stdout",
          "text": [
            "1\n",
            "l\n"
          ]
        }
      ]
    },
    {
      "cell_type": "code",
      "source": [
        "import string\n",
        "\n",
        "def is_pangram(input_string):\n",
        "    # Convert the string to lowercase and ignore spaces\n",
        "    input_string = input_string.lower().replace(\" \", \"\")\n",
        "\n",
        "    # Create a set of all alphabets\n",
        "    alphabet_set = set(string.ascii_lowercase)\n",
        "\n",
        "    # Check if all characters in alphabet_set are present in input_string\n",
        "    return set(input_string) >= alphabet_set\n",
        "\n",
        "# Test cases\n",
        "print(is_pangram(\"The quick brown fox jumps over the lazy dog\"))  # Output: True\n",
        "print(is_pangram(\"Hello, world!\"))  # Output: False\n"
      ],
      "metadata": {
        "colab": {
          "base_uri": "https://localhost:8080/"
        },
        "id": "M86mMW8jwo6e",
        "outputId": "6be37ed9-3538-46cd-e8fd-b236123ae46b"
      },
      "execution_count": 4,
      "outputs": [
        {
          "output_type": "stream",
          "name": "stdout",
          "text": [
            "True\n",
            "False\n"
          ]
        }
      ]
    },
    {
      "cell_type": "code",
      "source": [
        "def has_consecutive_threes(nums):\n",
        "    # Traverse the list to check for consecutive threes\n",
        "    for i in range(len(nums) - 1):\n",
        "        if nums[i] == 3 and nums[i + 1] == 3:\n",
        "            return True\n",
        "    return False\n",
        "\n",
        "# Test cases\n",
        "print(has_consecutive_threes([1, 3, 3]))     # Output: True\n",
        "print(has_consecutive_threes([1, 3, 1, 3]))  # Output: False\n"
      ],
      "metadata": {
        "colab": {
          "base_uri": "https://localhost:8080/"
        },
        "id": "mQbyPB52ws22",
        "outputId": "2827eecd-c24a-49c9-bff2-4ff9caec2af4"
      },
      "execution_count": 5,
      "outputs": [
        {
          "output_type": "stream",
          "name": "stdout",
          "text": [
            "True\n",
            "False\n"
          ]
        }
      ]
    },
    {
      "cell_type": "code",
      "source": [
        "def yoda_speak(sentence):\n",
        "    # Split the sentence into words, reverse the list, and join back into a string\n",
        "    words = sentence.split()\n",
        "    reversed_words = \" \".join(reversed(words))\n",
        "\n",
        "    return reversed_words\n",
        "\n",
        "# Test case\n",
        "print(yoda_speak(\"I am home\"))  # Output: \"home am I\"\n"
      ],
      "metadata": {
        "colab": {
          "base_uri": "https://localhost:8080/"
        },
        "id": "I3GbDqx4wxO1",
        "outputId": "69154176-ea5d-41af-e21c-361097050da3"
      },
      "execution_count": 6,
      "outputs": [
        {
          "output_type": "stream",
          "name": "stdout",
          "text": [
            "home am I\n"
          ]
        }
      ]
    },
    {
      "cell_type": "code",
      "source": [],
      "metadata": {
        "id": "nIDZ7fKRw3Z9"
      },
      "execution_count": null,
      "outputs": []
    }
  ]
}